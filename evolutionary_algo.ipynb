{
 "cells": [
  {
   "cell_type": "markdown",
   "metadata": {
    "colab_type": "text",
    "id": "-HS7g-4Tol3E"
   },
   "source": [
    "University of Stirling<br>\n",
    "Computing Science and Mathematics<br>\n",
    "#### CSCU9YE - Artificial Intelligence<p>   \n",
    "## Assignment: Organising a Colour Palette \n",
    "This notetbook offers some auxiliary code to support your programming assignment.    "
   ]
  },
  {
   "cell_type": "markdown",
   "metadata": {
    "colab_type": "text",
    "id": "-HS7g-4Tol3E"
   },
   "source": [
    "This algorithm is created to mimic nature in its evolution.<br>\n",
    "We start with a random population, and at the end of every iteration, we evaluate the fitness of a generation to find its optimal solution for a given problem (here, better ordering with a lower Euclidean distance).<br>\n",
    "With those selected solutions, we create a portion of offspring to build a new generation.<br>\n",
    "We then evaluate the generation and repeat until completion of the loop."
   ]
  },
  {
   "cell_type": "markdown",
   "metadata": {},
   "source": [
    "### Reading the data file "
   ]
  },
  {
   "cell_type": "code",
   "execution_count": 1,
   "metadata": {
    "colab": {},
    "colab_type": "code",
    "id": "KhOt_WBFol3G"
   },
   "outputs": [],
   "source": [
    "import numpy as np      # Numerical library, used keeing the list of colours and computing the Euclidean distance\n",
    "\n",
    "# Read in the color data file \n",
    "# Input: string with file name\n",
    "# Oputput: the number of colours (integer), and a list numpy arrays with all the colours\n",
    "def read_data(fname): \n",
    "    cols = np.loadtxt(fname, skiprows = 4) # The first 4 lines have text information, and are ignored     \n",
    "    ncols = len(cols)     # Total number of colours and list of colours\n",
    "    return ncols,cols"
   ]
  },
  {
   "cell_type": "markdown",
   "metadata": {
    "colab_type": "text",
    "id": "L8ZvdCK7ol3O"
   },
   "source": [
    "### Plotting a sequence of colours\n",
    "\n",
    "The function <b>plot_colors()</b> displaysthe colours from the color list *col_list* the order given by the *col_order* list. \n",
    "\n",
    "*col_list* and *col_order* need to be of the same length. The *ratio* parameter indicates height/width proportion of each bar of colour in the plot."
   ]
  },
  {
   "cell_type": "code",
   "execution_count": 2,
   "metadata": {
    "colab": {},
    "colab_type": "code",
    "id": "-devp9PBol3P"
   },
   "outputs": [],
   "source": [
    "import matplotlib.pyplot as plt\n",
    "\n",
    "# Dsiplay the colors as a strip of color bars\n",
    "# Input: list of colors, order of colors, and height/ratio\n",
    "\n",
    "def plot_colors(col_list, col_order, ratio = 10): \n",
    "    assert len(col_list) == len(col_order)\n",
    "    img = np.zeros((ratio, len(col_list), 3))\n",
    "    for i in range(0, len(col_list)):\n",
    "        img[:, i, :] = col_list[col_order[i]]\n",
    "    fig, axes = plt.subplots(1, figsize=(10,6)) # figsize=(width,height) handles window dimensions\n",
    "    axes.imshow(img, interpolation='nearest')\n",
    "    axes.axis('off')\n",
    "    plt.show()"
   ]
  },
  {
   "cell_type": "markdown",
   "metadata": {
    "colab_type": "text",
    "id": "_sesVP5bol3U"
   },
   "source": [
    "### Examples of ploting a colour ordering\n",
    "\n",
    "Let us see how to call the plot function, using the original order in which the colours appear in the data file, and another randomised order."
   ]
  },
  {
   "cell_type": "code",
   "execution_count": 3,
   "metadata": {
    "colab": {},
    "colab_type": "code",
    "id": "xnxRAdZ5ol3V",
    "outputId": "fe8aeb34-44be-4e44-9b1f-c7c1d11970cb"
   },
   "outputs": [],
   "source": [
    "import random as rnd\n",
    "\n",
    "# Function to generate a random solution (random ordering)  - we can generate a random ordering of the list by using\n",
    "# the shuffle function from the random library\n",
    "def random_sol():\n",
    "    sol = list(range(ncolors))   # list of consequtive numbers from 0 to ncolors\n",
    "    # Shuffle the elements in the list randomly. Shuffles in place and doesn’t retunr a value\n",
    "    rnd.shuffle(sol)   \n",
    "    return sol"
   ]
  },
  {
   "cell_type": "markdown",
   "metadata": {},
   "source": [
    "### Evaluation function to determine the quality of a given ordering of colours\n",
    "\n",
    "When solving the problem using optimisation heuristics, we need an evaluation function to measure the quality of a sulution. The problem is formulated as a minimisation  problem. We want to minimise the pair-wise distance between consequtive colours in the ordering. \n",
    "\n",
    "This function computes the quality of given ordering of colours. The smaller the evaluation function the better, as this is is formulated as a minimisation problem"
   ]
  },
  {
   "cell_type": "code",
   "execution_count": 4,
   "metadata": {},
   "outputs": [],
   "source": [
    "# This is an auxiliary function. It calculate the Euclidean distance between two individual colours\n",
    "# Input: v and u as to be numpy arrays, vectors of real numbers with the RGB coordinates.\n",
    "\n",
    "def euclid(v, u):\n",
    "    return np.linalg.norm(v - u)\n",
    "\n",
    "# Evaluation function.  Measures the quality of a given solution (ordering of colours) \n",
    "# The function computes the sum of the distances between all consecutive colours in the ordering\n",
    "# Input: cols: list of colours \n",
    "#        ordc: ordering of colours\n",
    "# Output: real number with the sumf of pair-wise differences in the colour ordering\n",
    "def evaluate(cols, ordc):     \n",
    "    adjacentColPairs = [[cols[ordc[i]],cols[ordc[i-1]]] for i in range(1,len(ordc))]\n",
    "    return sum([euclid(i[1], i[0]) for i in adjacentColPairs])"
   ]
  },
  {
   "cell_type": "code",
   "execution_count": 5,
   "metadata": {},
   "outputs": [],
   "source": [
    "# This function creates a neighbour to the passed in solution using the shuffle mutation.\n",
    "# The function will generate two random numbers and swap the values at the two random indexes.\n",
    "# Input:  s: the solution we want to create a random neighbour of.\n",
    "# Ouput:  return the random neighbour solution \n",
    "def random_neigh_swap(s):\n",
    "    r1 = rnd.randint(0, (len(s)-1))\n",
    "    r2 = rnd.randint(0, (len(s)-1))\n",
    "    while (r1 == r2):\n",
    "        r2 = rnd.randint(0, (len(s)-1))\n",
    "        \n",
    "    neigh_sol = s[:]\n",
    "    \n",
    "    neigh_sol[r1] = s[r2]\n",
    "    neigh_sol[r2] = s[r1] \n",
    "    \n",
    "    return neigh_sol"
   ]
  },
  {
   "cell_type": "code",
   "execution_count": 6,
   "metadata": {},
   "outputs": [],
   "source": [
    "# This function creates a generation of solutions with the passed parameter as size.\n",
    "# For each solution, the function will create a random solution and evaluate the Euclidean distance of that solution.\n",
    "# Both values (solution and distance) are stored through a 2D array.\n",
    "# Input:  the number of solutions per generation.\n",
    "# Output: returns the generated generation.\n",
    "def generate_initial_generation(population_count):\n",
    "    populations = []\n",
    "    for i in range(population_count):\n",
    "        random_s = random_sol()\n",
    "        populations.append([random_s, evaluate(colors, random_s)])\n",
    "    return populations"
   ]
  },
  {
   "cell_type": "code",
   "execution_count": 7,
   "metadata": {},
   "outputs": [],
   "source": [
    "# This function goes through every value in a population \n",
    "# and evaluates it's Euclidean distance, while re-assigning the new value in the array.\n",
    "# Input:  the generation that we want to evaluate and sort.\n",
    "def evaluate_generation(populations):\n",
    "    for i in range(len(populations)):\n",
    "        populations[i][1] = evaluate(colors, populations[i][0])\n",
    "    populations.sort(key=lambda x:x[1])  # sort the 2D array based on the Euclidean distance of each solution.\n",
    "        \n",
    "    return populations"
   ]
  },
  {
   "cell_type": "code",
   "execution_count": 8,
   "metadata": {},
   "outputs": [],
   "source": [
    "import math\n",
    "\n",
    "# This function chooses the portion of the population that will be kept as parents to the next generation.\n",
    "# Input:  the populations of the current generation for which we want to select the parents.\n",
    "# Output: returns an array of half the best solutions.\n",
    "def selection(populations):\n",
    "    parents = populations[:math.ceil(len(populations) / 2)] # select half of the passed population.\n",
    "    \n",
    "    return parents[:]"
   ]
  },
  {
   "cell_type": "code",
   "execution_count": 9,
   "metadata": {},
   "outputs": [],
   "source": [
    "# This function creates the offspring of a population using their parents.\n",
    "# For every parent kept, we create a random neighbour offspring using the swap mutation.\n",
    "# Input:  the best parents of the current generation.\n",
    "# Oupput: returns the offspring generated from the parent solutions.\n",
    "def mutate(parents):\n",
    "    offspring = []\n",
    "    \n",
    "    for j in range(len(parents)):\n",
    "        offspring.append(parents[j][:]) # Copy parents into empty array.\n",
    "    \n",
    "    for i in range(len(offspring)):\n",
    "        offspring[i][0] = random_neigh_swap(offspring[i][0])  # Generate offspring solution.\n",
    "    \n",
    "    return offspring"
   ]
  },
  {
   "cell_type": "code",
   "execution_count": 10,
   "metadata": {},
   "outputs": [],
   "source": [
    "# This function merges the parents solutions with the offspring solutions to create a new generation.\n",
    "# Input:  parents: the best solutions from the current generation.\n",
    "#         offspring: the solutions generated using the parents.\n",
    "# Output: returns the parents and offspring that make up a new generation.\n",
    "def breed_population(parents, offspring):\n",
    "    new_pop = []\n",
    "    \n",
    "    for i in range(len(parents)):\n",
    "        new_pop.append(parents[i])\n",
    "        new_pop.append(offspring[i])\n",
    "    \n",
    "    return new_pop"
   ]
  },
  {
   "cell_type": "code",
   "execution_count": 11,
   "metadata": {},
   "outputs": [],
   "source": [
    "# This function is the core function of the Evolutionary Algorithm.\n",
    "# Input:  population_count: the number of solutions per generation\n",
    "#         iterations: number of iterations\n",
    "#         trace: a record of every best solution per iterations\n",
    "# Output: the best solutions after trying the evolutionary algorithm a set amount of times.\n",
    "def ea(population_count, iterations, trace):\n",
    "    \n",
    "    populations = generate_initial_generation(population_count)\n",
    "\n",
    "    populations.sort(key=lambda x:x[1])\n",
    "\n",
    "    while (iterations > 0):\n",
    "        # Select parents\n",
    "        parents = selection(populations)\n",
    "        # Create offspring\n",
    "        offspring = mutate(parents[:])\n",
    "        \n",
    "        # Merge parents and offspring\n",
    "        populations = breed_population(parents, offspring)\n",
    "        # Evalute the new generation\n",
    "        populations = evaluate_generation(populations)  \n",
    "        \n",
    "        # Append best solution to the trace\n",
    "        trace.append(populations[0][1])\n",
    "        \n",
    "        iterations -= 1\n",
    "    return populations[0]"
   ]
  },
  {
   "cell_type": "code",
   "execution_count": 12,
   "metadata": {},
   "outputs": [],
   "source": [
    "import matplotlib.pyplot as plt\n",
    "\n",
    "# This function plots the trace of each best solution for each iterations.\n",
    "# Input:  trace: the best solutions for each iterations run\n",
    "#         filename: the current file that is being optimized (100 or 500)\n",
    "def plot_trace(trace, filename):\n",
    "    #print(trace) # First print the trace\n",
    "    plt.figure()\n",
    "    plt.plot(trace,color='red', linewidth=2)\n",
    "    plt.title('Trace hill-climbing ' + filename)\n",
    "    plt.ylabel('Euclidean Distance')\n",
    "    plt.show()"
   ]
  },
  {
   "cell_type": "markdown",
   "metadata": {},
   "source": [
    "Running the algorithm the 100 colors for a population of 100 solutions by 10000 iterations."
   ]
  },
  {
   "cell_type": "markdown",
   "metadata": {},
   "source": [
    "<h3>Running the 100 colors</h3>"
   ]
  },
  {
   "cell_type": "code",
   "execution_count": 13,
   "metadata": {},
   "outputs": [
    {
     "data": {
      "image/png": "[encoded data removed]",
      "text/plain": [
       "<Figure size 432x288 with 1 Axes>"
      ]
     },
     "metadata": {
      "needs_background": "light"
     },
     "output_type": "display_data"
    },
    {
     "name": "stdout",
     "output_type": "stream",
     "text": [
      "Best solution: [12, 33, 14, 25, 56, 5, 70, 10, 58, 79, 81, 93, 19, 66, 49, 74, 84, 30, 45, 7, 20, 36, 53, 13, 75, 71, 41, 34, 42, 69, 86, 26, 47, 91, 54, 31, 0, 24, 72, 18, 46, 51, 44, 35, 95, 11, 62, 1, 16, 77, 38, 52, 67, 21, 4, 9, 59, 8, 2, 15, 82, 48, 22, 23, 55, 39, 27, 94, 78, 50, 37, 60, 80, 63, 64, 73, 6, 43, 28, 85, 68, 29, 76, 40, 92, 32, 17, 83, 3, 89, 57, 61, 88, 65, 87, 90]\n",
      "Distance: 19.857690169658404\n",
      "Time taken: 987.5055942\n"
     ]
    }
   ],
   "source": [
    "import timeit\n",
    "\n",
    "filename = \"col100.txt\"\n",
    "ncolors, colors = read_data(filename)\n",
    "trace = []\n",
    "\n",
    "start_time = timeit.default_timer()\n",
    "best = ea(100, 10000, trace) # population size, iterations, and a trace to plot after the algorithm is complete\n",
    "stop_time = timeit.default_timer()\n",
    "plot_trace(trace, filename)\n",
    "print(\"Best solution:\", best[0])\n",
    "print(\"Distance:\", best[1])\n",
    "print(\"Time taken:\", stop_time - start_time)"
   ]
  },
  {
   "cell_type": "markdown",
   "metadata": {},
   "source": [
    "<h3>Running the 500 colors</h3>"
   ]
  },
  {
   "cell_type": "code",
   "execution_count": 14,
   "metadata": {},
   "outputs": [
    {
     "data": {
      "image/png": "[encoded data removed]",
      "text/plain": [
       "<Figure size 432x288 with 1 Axes>"
      ]
     },
     "metadata": {
      "needs_background": "light"
     },
     "output_type": "display_data"
    },
    {
     "name": "stdout",
     "output_type": "stream",
     "text": [
      "Best solution: [228, 238, 67, 434, 298, 95, 443, 456, 25, 155, 68, 132, 21, 373, 214, 402, 387, 111, 23, 260, 166, 295, 13, 177, 69, 418, 425, 55, 39, 350, 26, 342, 9, 305, 84, 381, 463, 22, 104, 446, 399, 252, 302, 404, 359, 143, 65, 296, 145, 189, 122, 254, 290, 16, 328, 473, 317, 267, 256, 134, 247, 394, 120, 107, 448, 227, 50, 369, 263, 313, 4, 85, 339, 261, 97, 337, 360, 123, 183, 242, 11, 299, 397, 54, 98, 243, 423, 0, 44, 410, 239, 255, 368, 10, 158, 17, 268, 102, 20, 7, 216, 194, 352, 101, 164, 333, 479, 336, 264, 460, 5, 453, 343, 137, 35, 81, 66, 100, 401, 192, 326, 191, 450, 157, 490, 197, 147, 92, 476, 129, 38, 265, 229, 279, 316, 419, 485, 188, 378, 379, 259, 124, 432, 125, 281, 364, 45, 354, 391, 240, 426, 271, 79, 244, 210, 393, 215, 121, 106, 330, 495, 233, 438, 384, 19, 269, 488, 398, 128, 472, 48, 117, 406, 489, 457, 297, 474, 47, 424, 289, 282, 185, 319, 274, 341, 231, 167, 334, 8, 82, 469, 211, 447, 196, 2, 286, 103, 411, 275, 300, 363, 412, 99, 205, 435, 388, 24, 18, 108, 461, 309, 212, 163, 226, 385, 151, 478, 251, 355, 285, 372, 180, 74, 49, 199, 144, 308, 153, 346, 374, 83, 347, 224, 332, 172, 331, 230, 327, 176, 366, 162, 27, 181, 250, 482, 294, 72, 46, 471, 148, 270, 365, 477, 126, 179, 266, 218, 315, 203, 324, 380, 161, 200, 76, 322, 174, 420, 345, 86, 133, 168, 403, 80, 451, 408, 28, 63, 6, 73, 64, 109, 60, 422, 371, 160, 207, 57, 204, 193, 356, 127, 136, 236, 318, 396, 15, 59, 53, 36, 40, 458, 135, 90, 118, 481, 405, 154, 1, 437, 377, 112, 149, 178, 61, 323, 427, 491, 209, 51, 442, 245, 141, 440, 237, 170, 415, 77, 219, 301, 52, 431, 75, 306, 213, 208, 253, 392, 439, 287, 246, 454, 320, 351, 32, 206, 42, 113, 175, 138, 344, 34, 310, 304, 361, 487, 462, 416, 70, 105, 217, 31, 400, 414, 262, 30, 184, 225, 375, 340, 110, 87, 223, 273, 202, 311, 382, 303, 186, 234, 329, 220, 338, 466, 146, 37, 78, 465, 62, 293, 3, 468, 441, 407, 452, 89, 362, 182, 221, 140, 94, 494, 417, 142, 312, 248, 370, 93, 276, 480, 115, 257, 444, 376, 195, 358, 156, 325, 455, 41, 71, 395, 464, 470, 258, 91, 187, 116, 119, 433, 190, 467, 249, 383, 272, 413, 29, 152, 349, 449, 12, 222, 173, 288, 278, 159, 484, 307, 348, 96, 165, 291, 389, 201, 235, 321, 277, 284, 335, 475, 386, 198, 492, 280, 493, 353, 58, 139, 483, 241, 130, 150, 486, 43, 114, 459, 428, 14, 357, 56, 430, 171, 314, 33, 421, 429, 436, 292, 232, 390, 367, 88, 283, 169, 131, 409, 445]\n",
      "Distance: 117.15386217268828\n",
      "Time taken: 4576.9185513\n"
     ]
    }
   ],
   "source": [
    "filename = \"col500.txt\"\n",
    "ncolors, colors = read_data(filename)\n",
    "trace = []\n",
    "\n",
    "start_time = timeit.default_timer()\n",
    "best = ea(100, 10000, trace) # population size, iterations, and a trace to plot after the algorithm is complete\n",
    "stop_time = timeit.default_timer()\n",
    "plot_trace(trace, filename)\n",
    "print(\"Best solution:\", best[0])\n",
    "print(\"Distance:\", best[1])\n",
    "print(\"Time taken:\", stop_time - start_time)"
   ]
  },
  {
   "cell_type": "markdown",
   "metadata": {},
   "source": [
    "The process was run for a population of 100 solutions over a repetition of 10000 iterations.<br>\n",
    "I decided to implement the random neighbour as a swap, as I concluded from exercise 1 that it was the most effective mutation."
   ]
  },
  {
   "cell_type": "markdown",
   "metadata": {},
   "source": [
    "<h3>Final Results</h3>\n",
    "I have decided to implement a simple genetic algorithm to find the best order of colors.<br>\n",
    "The crossover rate is set to be 50 percent, which makes the progress of the evolution quite slow, but quite efficient for this problem.<br>\n",
    "To create the offspring, we apply the random neighbour swap mutation to the best half of that generation, hopefully improving each solution.<br>\n",
    "This of course makes the improvement quite slow, but steady (as seen with the multi-hill exercise).<br><br>\n",
    "\n",
    "This algorithm is performing as better than the mutli-hill algorithm, but like the multi-hill climbing, to find the best solution, it would have to run for a very long time.<br>\n",
    "I made the code run for 10000 iterations of a population of a 100, which too about 15 minutes for the 100 colors and 75 minutes for the 500 colors.<br>"
   ]
  },
  {
   "cell_type": "code",
   "execution_count": 18,
   "metadata": {},
   "outputs": [],
   "source": [
    "# 100 colors\n",
    "best_EA_100 = [12, 33, 14, 25, 56, 5, 70, 10, 58, 79, 81, 93, 19, 66, 49, 74, 84, 30, 45, 7, 20, 36, 53, 13, 75, 71, 41, 34, 42, 69, 86, 26, 47, 91, 54, 31, 0, 24, 72, 18, 46, 51, 44, 35, 95, 11, 62, 1, 16, 77, 38, 52, 67, 21, 4, 9, 59, 8, 2, 15, 82, 48, 22, 23, 55, 39, 27, 94, 78, 50, 37, 60, 80, 63, 64, 73, 6, 43, 28, 85, 68, 29, 76, 40, 92, 32, 17, 83, 3, 89, 57, 61, 88, 65, 87, 90]\n",
    "best_EA_score_100 = 19.8576\n",
    "\n",
    "# 500 colors\n",
    "best_EA_500 = [228, 238, 67, 434, 298, 95, 443, 456, 25, 155, 68, 132, 21, 373, 214, 402, 387, 111, 23, 260, 166, 295, 13, 177, 69, 418, 425, 55, 39, 350, 26, 342, 9, 305, 84, 381, 463, 22, 104, 446, 399, 252, 302, 404, 359, 143, 65, 296, 145, 189, 122, 254, 290, 16, 328, 473, 317, 267, 256, 134, 247, 394, 120, 107, 448, 227, 50, 369, 263, 313, 4, 85, 339, 261, 97, 337, 360, 123, 183, 242, 11, 299, 397, 54, 98, 243, 423, 0, 44, 410, 239, 255, 368, 10, 158, 17, 268, 102, 20, 7, 216, 194, 352, 101, 164, 333, 479, 336, 264, 460, 5, 453, 343, 137, 35, 81, 66, 100, 401, 192, 326, 191, 450, 157, 490, 197, 147, 92, 476, 129, 38, 265, 229, 279, 316, 419, 485, 188, 378, 379, 259, 124, 432, 125, 281, 364, 45, 354, 391, 240, 426, 271, 79, 244, 210, 393, 215, 121, 106, 330, 495, 233, 438, 384, 19, 269, 488, 398, 128, 472, 48, 117, 406, 489, 457, 297, 474, 47, 424, 289, 282, 185, 319, 274, 341, 231, 167, 334, 8, 82, 469, 211, 447, 196, 2, 286, 103, 411, 275, 300, 363, 412, 99, 205, 435, 388, 24, 18, 108, 461, 309, 212, 163, 226, 385, 151, 478, 251, 355, 285, 372, 180, 74, 49, 199, 144, 308, 153, 346, 374, 83, 347, 224, 332, 172, 331, 230, 327, 176, 366, 162, 27, 181, 250, 482, 294, 72, 46, 471, 148, 270, 365, 477, 126, 179, 266, 218, 315, 203, 324, 380, 161, 200, 76, 322, 174, 420, 345, 86, 133, 168, 403, 80, 451, 408, 28, 63, 6, 73, 64, 109, 60, 422, 371, 160, 207, 57, 204, 193, 356, 127, 136, 236, 318, 396, 15, 59, 53, 36, 40, 458, 135, 90, 118, 481, 405, 154, 1, 437, 377, 112, 149, 178, 61, 323, 427, 491, 209, 51, 442, 245, 141, 440, 237, 170, 415, 77, 219, 301, 52, 431, 75, 306, 213, 208, 253, 392, 439, 287, 246, 454, 320, 351, 32, 206, 42, 113, 175, 138, 344, 34, 310, 304, 361, 487, 462, 416, 70, 105, 217, 31, 400, 414, 262, 30, 184, 225, 375, 340, 110, 87, 223, 273, 202, 311, 382, 303, 186, 234, 329, 220, 338, 466, 146, 37, 78, 465, 62, 293, 3, 468, 441, 407, 452, 89, 362, 182, 221, 140, 94, 494, 417, 142, 312, 248, 370, 93, 276, 480, 115, 257, 444, 376, 195, 358, 156, 325, 455, 41, 71, 395, 464, 470, 258, 91, 187, 116, 119, 433, 190, 467, 249, 383, 272, 413, 29, 152, 349, 449, 12, 222, 173, 288, 278, 159, 484, 307, 348, 96, 165, 291, 389, 201, 235, 321, 277, 284, 335, 475, 386, 198, 492, 280, 493, 353, 58, 139, 483, 241, 130, 150, 486, 43, 114, 459, 428, 14, 357, 56, 430, 171, 314, 33, 421, 429, 436, 292, 232, 390, 367, 88, 283, 169, 131, 409, 445]\n",
    "best_EA_score_500 = 117.1538"
   ]
  },
  {
   "cell_type": "code",
   "execution_count": null,
   "metadata": {},
   "outputs": [],
   "source": []
  }
 ],
 "metadata": {
  "colab": {
   "name": "courseWork_startup_kit.ipynb",
   "provenance": []
  },
  "kernelspec": {
   "display_name": "Python 3",
   "language": "python",
   "name": "python3"
  },
  "language_info": {
   "codemirror_mode": {
    "name": "ipython",
    "version": 3
   },
   "file_extension": ".py",
   "mimetype": "text/x-python",
   "name": "python",
   "nbconvert_exporter": "python",
   "pygments_lexer": "ipython3",
   "version": "3.8.3"
  }
 },
 "nbformat": 4,
 "nbformat_minor": 4
}
