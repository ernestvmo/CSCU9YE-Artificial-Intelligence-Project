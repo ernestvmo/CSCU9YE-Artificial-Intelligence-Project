{
 "cells": [
  {
   "cell_type": "markdown",
   "metadata": {
    "colab_type": "text",
    "id": "-HS7g-4Tol3E"
   },
   "source": [
    "University of Stirling<br>\n",
    "Computing Science and Mathematics<br>\n",
    "#### CSCU9YE - Artificial Intelligence<p>   \n",
    "## Assignment: Organising a Colour Palette \n",
    "This notetbook offers some auxiliary code to support your programming assignment.    "
   ]
  },
  {
   "cell_type": "code",
   "execution_count": 1,
   "metadata": {},
   "outputs": [],
   "source": [
    "#This is a solution for data clustering. In this solution, we explore 3 different algorithms we can use for this problem.\n",
    "#The solution includes k-means, Birch and Agglomerative\n",
    "\n",
    "#Imports\n",
    "import sys\n",
    "import os\n",
    "import statistics\n",
    "import matplotlib.pyplot as plt\n",
    "import numpy as np\n",
    "import pandas as pd\n",
    "\n",
    "from io import StringIO\n",
    "from IPython import get_ipython\n",
    "from sklearn import preprocessing\n",
    "from sklearn import preprocessing\n",
    "from astropy import units as u\n",
    "from astropy.table import QTable, Table, Column\n",
    "from sklearn.cluster import KMeans\n",
    "from sklearn.cluster import Birch\n",
    "from sklearn.cluster import KMeans\n",
    "from sklearn.cluster import AgglomerativeClustering\n",
    "from IPython.display import clear_output\n",
    "\n",
    "#Global varibales\n",
    "# isRunning = True\n",
    "file = 0\n",
    "tries = 0\n",
    "\n",
    "#Assigning them a terrible value as a starting solution\n",
    "cl_best500 = 1000\n",
    "cl_best100 = 1000\n",
    "\n",
    "#This function reads the file and retruns the number of colours and its list index\n",
    "#@Params fname\n",
    "#@Returns ncols, cols\n",
    "def read_data(fname):\n",
    "    cols = np.loadtxt(fname, skiprows = 4) # The first 4 lines have text information, and are ignored     \n",
    "    ncols = len(cols)     # Total number of colours and list of colours\n",
    "    return ncols,cols\n",
    "\n",
    "#This function plots a coloured graph displaying the order of the clustered solution \n",
    "#@Params col_list, col_order, ratio\n",
    "def plot_colors(col_list, col_order, ratio = 10):\n",
    "    assert len(col_list) == len(col_order)\n",
    "    img = np.zeros((ratio, len(col_list), 3))\n",
    "    for i in range(0, len(col_list)):\n",
    "        img[:, i, :] = col_list[col_order[i]]\n",
    "    fig, axes = plt.subplots(1, figsize=(10,6)) # figsize=(width,height) handles window dimensions\n",
    "    axes.imshow(img, interpolation='nearest')\n",
    "    axes.axis('off')\n",
    "    plt.show()\n",
    "\n",
    "#This function returns a different matrix norm based on the paramters. It can be used in conjuction with the evaluate function below\n",
    "#@Params v, u\n",
    "#@Returns np (matrix)\n",
    "def euclid(v, u):\n",
    "    return np.linalg.norm(v - u)\n",
    "\n",
    "#This function evalautes and returns the sum of the distance of the solution\n",
    "#@Params ncols, cols\n",
    "#@Returns double\n",
    "def evaluate(cols, ordc):     \n",
    "    adjacentColPairs = [[cols[ordc[i]],cols[ordc[i-1]]] for i in range(1,len(ordc))]\n",
    "    return sum([euclid(i[1], i[0]) for i in adjacentColPairs])\n",
    "\n",
    "#This function deals with the core calls needed to run the system.\n",
    "#@Returns distance, test, order\n",
    "def cluster(clusterValue, currentAlgorithm):\n",
    "    data = generateDataFile()\n",
    "    data_scaled = preProcessData(data)\n",
    "    \n",
    "    if currentAlgorithm == \"KMeans\":\n",
    "        clusters = applyClusteringKMeans(clusterValue, data_scaled)\n",
    "    elif currentAlgorithm == \"Birch\":\n",
    "        clusters = applyClusteringBirch(clusterValue, data_scaled)\n",
    "    elif currentAlgorithm == \"Agglo\":\n",
    "        clusters = applyClusteringAgglomerative(clusterValue, data_scaled)\n",
    "    \n",
    "    order = [i for i in range(ncolors)]\n",
    "    setColumns(order,clusters, data)\n",
    "    data = sortClusters(data)\n",
    "    test = generateNumpyArr(data)\n",
    "    distance = evaluate(test,order)\n",
    "    return distance, test\n",
    "\n",
    "#This function returns a customised DataFrame\n",
    "#@Returns pd\n",
    "def generateDataFile():\n",
    "    return pd.DataFrame({'R': colors[:, 0], 'G': colors[:, 1], 'B': colors[:, 2]})\n",
    "\n",
    "#This function scales and applies the preprocessing to the raw data and returns a processed copy\n",
    "#@Params data\n",
    "#@Returns data_scaled\n",
    "def preProcessData(data):\n",
    "    data_scaled = preprocessing.scale(data)   # This produces a matrix with the scaled data.\n",
    "    data_scaled = pd.DataFrame(data_scaled)   # We transform it to a data frame for clustering\n",
    "    return data_scaled\n",
    "\n",
    "#This function uses the K-Means clustering algorithm\n",
    "#This is one of the 3 algorithms explored in this system\n",
    "#It computes cluster centers and predicts cluster index for each sample.\n",
    "#@Params clusterValue, data_scaled\n",
    "#@Returns clusters\n",
    "def applyClusteringKMeans(clusterValue, data_scaled):\n",
    "    kmeans = KMeans(n_clusters = clusterValue)\n",
    "    clusters = kmeans.fit_predict(data_scaled)\n",
    "    return clusters\n",
    "\n",
    "def applyClusteringBirch(clusterValue, data_scaled):\n",
    "    birch = Birch(n_clusters = clusterValue)\n",
    "    clusters = birch.fit_predict(data_scaled)\n",
    "    return clusters\n",
    "\n",
    "def applyClusteringAgglomerative(clusterValue, data_scaled):\n",
    "    agglomerativeclustering = AgglomerativeClustering(n_clusters = clusterValue)\n",
    "    clusters = agglomerativeclustering.fit_predict(data_scaled)\n",
    "    return clusters\n",
    "\n",
    "#This function sets 2 columns in the dataframe\n",
    "#@Params order, clusters, data\n",
    "def setColumns(order,clusters, data):\n",
    "    data['Clusters'] = clusters\n",
    "    data['ColorID'] = order\n",
    "\n",
    "#This function sorts the DataFrame by index of \"Clusters\"\n",
    "#@Params data\n",
    "#@Returns data\n",
    "def sortClusters(data):\n",
    "    data = data.sort_values(by=['Clusters'])\n",
    "    return data\n",
    "\n",
    "#This function translates and returns a copy of the DataFrame to a NumPy array\n",
    "#@Params data\n",
    "#@Returns test\n",
    "def generateNumpyArr(data):\n",
    "    test = data[['R', 'G', 'B']].to_numpy()\n",
    "    return test\n",
    "\n",
    "#This function calls the startSystem an 'n' amount of time (user dependant) and stores the best value found\n",
    "#@Params tries\n",
    "#@Returns bestV, test, order\n",
    "def iterator(clusterValue, currentAlgorithm):\n",
    "    value, clustered_data = cluster(clusterValue, currentAlgorithm)\n",
    "#         if (findBestCluster):\n",
    "#             clusterValue += 1\n",
    "    return value, clustered_data"
   ]
  },
  {
   "cell_type": "markdown",
   "metadata": {},
   "source": [
    "<h3>Clustering 100 colors</h3>"
   ]
  },
  {
   "cell_type": "code",
   "execution_count": 2,
   "metadata": {},
   "outputs": [
    {
     "name": "stdout",
     "output_type": "stream",
     "text": [
      "KMeans 20 clusters\n"
     ]
    },
    {
     "data": {
      "image/png": "[encoded data removed]",
      "text/plain": [
       "<Figure size 720x432 with 1 Axes>"
      ]
     },
     "metadata": {
      "needs_background": "light"
     },
     "output_type": "display_data"
    },
    {
     "name": "stdout",
     "output_type": "stream",
     "text": [
      "Evaluation: 30.090518531564285\n",
      "\n",
      "KMeans 7 clusters\n"
     ]
    },
    {
     "data": {
      "image/png": "[encoded data removed]",
      "text/plain": [
       "<Figure size 720x432 with 1 Axes>"
      ]
     },
     "metadata": {
      "needs_background": "light"
     },
     "output_type": "display_data"
    },
    {
     "name": "stdout",
     "output_type": "stream",
     "text": [
      "Evaluation: 33.32975584188554\n",
      "\n",
      "\n",
      "\n",
      "\n",
      "\n",
      "Birch 20 clusters\n"
     ]
    },
    {
     "data": {
      "image/png": "[encoded data removed]",
      "text/plain": [
       "<Figure size 720x432 with 1 Axes>"
      ]
     },
     "metadata": {
      "needs_background": "light"
     },
     "output_type": "display_data"
    },
    {
     "name": "stdout",
     "output_type": "stream",
     "text": [
      "Evaluation: 30.610035304191676\n",
      "\n",
      "Birch 7 clusters\n"
     ]
    },
    {
     "data": {
      "image/png": "[encoded data removed]",
      "text/plain": [
       "<Figure size 720x432 with 1 Axes>"
      ]
     },
     "metadata": {
      "needs_background": "light"
     },
     "output_type": "display_data"
    },
    {
     "name": "stdout",
     "output_type": "stream",
     "text": [
      "Evaluation: 35.423176418963735\n",
      "\n",
      "\n",
      "\n",
      "\n",
      "\n",
      "Agglomerative 20 clusters\n"
     ]
    },
    {
     "data": {
      "image/png": "[encoded data removed]",
      "text/plain": [
       "<Figure size 720x432 with 1 Axes>"
      ]
     },
     "metadata": {
      "needs_background": "light"
     },
     "output_type": "display_data"
    },
    {
     "name": "stdout",
     "output_type": "stream",
     "text": [
      "Evaluation: 27.75063562057974\n",
      "\n",
      "Agglomerative 7 clusters\n"
     ]
    },
    {
     "data": {
      "image/png": "[encoded data removed]",
      "text/plain": [
       "<Figure size 720x432 with 1 Axes>"
      ]
     },
     "metadata": {
      "needs_background": "light"
     },
     "output_type": "display_data"
    },
    {
     "name": "stdout",
     "output_type": "stream",
     "text": [
      "Evaluation: 33.68270876291953\n"
     ]
    }
   ],
   "source": [
    "file = \"col100.txt\"\n",
    "clusterValue = 20\n",
    "ncolors, colors = read_data(file)\n",
    "\n",
    "# KMeans\n",
    "kmeans100_best_val, kmeans100 = iterator(clusterValue, \"KMeans\")\n",
    "birch100_best_val, birch100 = iterator(clusterValue, \"Birch\")\n",
    "agglo100_best_val, agglo100 = iterator(clusterValue, \"Agglo\")\n",
    "\n",
    "order = [i for i in range(ncolors)]\n",
    "\n",
    "# KMeans Clustering\n",
    "print(\"KMeans 20 clusters\")\n",
    "plot_colors(kmeans100, order)\n",
    "print(\"Evaluation:\", evaluate(kmeans100, order))\n",
    "print()\n",
    "print(\"KMeans 7 clusters\")\n",
    "kmeans100_best_val, kmeans100 = iterator(7, \"KMeans\")\n",
    "plot_colors(kmeans100, order)\n",
    "print(\"Evaluation:\", evaluate(kmeans100, order))\n",
    "print(\"\\n\\n\\n\\n\")\n",
    "\n",
    "# Birch Clustering\n",
    "print(\"Birch 20 clusters\")\n",
    "plot_colors(birch100, order)\n",
    "print(\"Evaluation:\", evaluate(birch100, order))\n",
    "print()\n",
    "print(\"Birch 7 clusters\")\n",
    "birch100_best_val, birch100 = iterator(7, \"Birch\")\n",
    "plot_colors(birch100, order)\n",
    "print(\"Evaluation:\", evaluate(birch100, order))\n",
    "# plot_trace(birch100_trace)\n",
    "print(\"\\n\\n\\n\\n\")\n",
    "\n",
    "# KMeans Clustering\n",
    "print(\"Agglomerative 20 clusters\")\n",
    "plot_colors(agglo100, order)\n",
    "print(\"Evaluation:\", evaluate(agglo100, order))\n",
    "print()\n",
    "print(\"Agglomerative 7 clusters\")\n",
    "agglo100_best_val, agglo100 = iterator(7, \"Agglo\")\n",
    "plot_colors(agglo100, order)\n",
    "print(\"Evaluation:\", evaluate(agglo100, order))\n",
    "# plot_trace(agglo100_trace)"
   ]
  },
  {
   "cell_type": "markdown",
   "metadata": {},
   "source": [
    "<h3>Clustering 500 colors</h3>"
   ]
  },
  {
   "cell_type": "code",
   "execution_count": 3,
   "metadata": {},
   "outputs": [
    {
     "name": "stdout",
     "output_type": "stream",
     "text": [
      "KMeans 46 clusters\n"
     ]
    },
    {
     "data": {
      "image/png": "[encoded data removed]",
      "text/plain": [
       "<Figure size 720x432 with 1 Axes>"
      ]
     },
     "metadata": {
      "needs_background": "light"
     },
     "output_type": "display_data"
    },
    {
     "name": "stdout",
     "output_type": "stream",
     "text": [
      "Evaluation: 110.30000767801221\n",
      "\n",
      "KMeans 7 clusters\n"
     ]
    },
    {
     "data": {
      "image/png": "[encoded data removed]",
      "text/plain": [
       "<Figure size 720x432 with 1 Axes>"
      ]
     },
     "metadata": {
      "needs_background": "light"
     },
     "output_type": "display_data"
    },
    {
     "name": "stdout",
     "output_type": "stream",
     "text": [
      "Evaluation: 172.04630996536275\n",
      "\n",
      "\n",
      "\n",
      "\n",
      "\n",
      "Birch 46 clusters\n"
     ]
    },
    {
     "data": {
      "image/png": "[encoded data removed]",
      "text/plain": [
       "<Figure size 720x432 with 1 Axes>"
      ]
     },
     "metadata": {
      "needs_background": "light"
     },
     "output_type": "display_data"
    },
    {
     "name": "stdout",
     "output_type": "stream",
     "text": [
      "Evaluation: 112.28390719952039\n",
      "\n",
      "Birch 7 clusters\n"
     ]
    },
    {
     "data": {
      "image/png": "[encoded data removed]",
      "text/plain": [
       "<Figure size 720x432 with 1 Axes>"
      ]
     },
     "metadata": {
      "needs_background": "light"
     },
     "output_type": "display_data"
    },
    {
     "name": "stdout",
     "output_type": "stream",
     "text": [
      "Evaluation: 192.9308611785898\n",
      "\n",
      "\n",
      "\n",
      "\n",
      "\n",
      "Agglomerative 46 clusters\n"
     ]
    },
    {
     "data": {
      "image/png": "[encoded data removed]",
      "text/plain": [
       "<Figure size 720x432 with 1 Axes>"
      ]
     },
     "metadata": {
      "needs_background": "light"
     },
     "output_type": "display_data"
    },
    {
     "name": "stdout",
     "output_type": "stream",
     "text": [
      "Evaluation: 105.69698355129572\n",
      "\n",
      "Agglomerative 7 clusters\n"
     ]
    },
    {
     "data": {
      "image/png": "[encoded data removed]",
      "text/plain": [
       "<Figure size 720x432 with 1 Axes>"
      ]
     },
     "metadata": {
      "needs_background": "light"
     },
     "output_type": "display_data"
    },
    {
     "name": "stdout",
     "output_type": "stream",
     "text": [
      "Evaluation: 187.60079081065564\n"
     ]
    }
   ],
   "source": [
    "file = \"col500.txt\"\n",
    "clusterValue = 46\n",
    "ncolors, colors = read_data(file)\n",
    "\n",
    "# KMeans\n",
    "kmeans500_best_val, kmeans500 = iterator(clusterValue, \"KMeans\")\n",
    "birch500_best_val, birch500 = iterator(clusterValue, \"Birch\")\n",
    "agglo500_best_val, agglo500 = iterator(clusterValue, \"Agglo\")\n",
    "\n",
    "order = [i for i in range(ncolors)]\n",
    "\n",
    "# KMeans Clustering\n",
    "print(\"KMeans 46 clusters\")\n",
    "plot_colors(kmeans500, order)\n",
    "print(\"Evaluation:\", evaluate(kmeans500, order))\n",
    "print()\n",
    "print(\"KMeans 7 clusters\")\n",
    "kmeans500_best_val, kmeans500 = iterator(7, \"KMeans\")\n",
    "plot_colors(kmeans500, order)\n",
    "print(\"Evaluation:\", evaluate(kmeans500, order))\n",
    "print(\"\\n\\n\\n\\n\")\n",
    "\n",
    "# Birch Clustering\n",
    "print(\"Birch 46 clusters\")\n",
    "plot_colors(birch500, order)\n",
    "print(\"Evaluation:\", evaluate(birch500, order))\n",
    "print()\n",
    "print(\"Birch 7 clusters\")\n",
    "birch500_best_val, birch500 = iterator(7, \"Birch\")\n",
    "plot_colors(birch500, order)\n",
    "print(\"Evaluation:\", evaluate(birch500, order))\n",
    "# plot_trace(birch500_trace)\n",
    "print(\"\\n\\n\\n\\n\")\n",
    "\n",
    "# KMeans Clustering\n",
    "print(\"Agglomerative 46 clusters\")\n",
    "plot_colors(agglo500, order)\n",
    "print(\"Evaluation:\", evaluate(agglo500, order))\n",
    "print()\n",
    "print(\"Agglomerative 7 clusters\")\n",
    "agglo500_best_val, agglo500 = iterator(7, \"Agglo\")\n",
    "plot_colors(agglo500, order)\n",
    "print(\"Evaluation:\", evaluate(agglo500, order))"
   ]
  },
  {
   "cell_type": "markdown",
   "metadata": {},
   "source": [
    "<h3>Final Results</h3>"
   ]
  },
  {
   "cell_type": "markdown",
   "metadata": {},
   "source": [
    "When it comes to clustering the colors, I believe there is two ways that we can go about it.<br>\n",
    "For the first, a good ordering will be evaluated based on its looks rather than its final evaluation score.<br>\n",
    "The second is to choose a color based on its final Euclidean distance.<br><br>\n",
    "The solution clustered with 7 clusters is more appealing to the eyes than the ones with 20 (for a 100 colors) or  46 (500 colours), even though those solutions do not have the best Euclidean distance.<br>\n",
    "This is a lot more noticeable for the 500 colors file.\n",
    "\n",
    "\n",
    "Furthermore, the agglomerative clustering seems to provide better results when it comes to the Euclidean distance, without making a big difference on the appearance of the color plot.<br>\n",
    "That is why we have chosen the Agglomerative clustering for our final solution."
   ]
  },
  {
   "cell_type": "code",
   "execution_count": 4,
   "metadata": {},
   "outputs": [
    {
     "data": {
      "image/png": "[encoded data removed]",
      "text/plain": [
       "<Figure size 720x432 with 1 Axes>"
      ]
     },
     "metadata": {
      "needs_background": "light"
     },
     "output_type": "display_data"
    },
    {
     "data": {
      "image/png": "[encoded data removed]",
      "text/plain": [
       "<Figure size 720x432 with 1 Axes>"
      ]
     },
     "metadata": {
      "needs_background": "light"
     },
     "output_type": "display_data"
    }
   ],
   "source": [
    "file = \"col100.txt\"\n",
    "clusterValue = 7\n",
    "ncolors, colors = read_data(file)\n",
    "order = [i for i in range(ncolors)]\n",
    "\n",
    "# KMeans\n",
    "agglo100_best_val, agglo100 = iterator(clusterValue, \"Agglo\")\n",
    "plot_colors(agglo100, order)\n",
    "\n",
    "#############################################################\n",
    "\n",
    "file = \"col500.txt\"\n",
    "clusterValue = 7\n",
    "ncolors, colors = read_data(file)\n",
    "order = [i for i in range(ncolors)]\n",
    "\n",
    "# KMeans\n",
    "agglo500_best_val, agglo500 = iterator(clusterValue, \"Agglo\")\n",
    "plot_colors(agglo500, order)"
   ]
  },
  {
   "cell_type": "code",
   "execution_count": null,
   "metadata": {},
   "outputs": [],
   "source": []
  }
 ],
 "metadata": {
  "colab": {
   "name": "courseWork_startup_kit.ipynb",
   "provenance": []
  },
  "kernelspec": {
   "display_name": "Python 3",
   "language": "python",
   "name": "python3"
  },
  "language_info": {
   "codemirror_mode": {
    "name": "ipython",
    "version": 3
   },
   "file_extension": ".py",
   "mimetype": "text/x-python",
   "name": "python",
   "nbconvert_exporter": "python",
   "pygments_lexer": "ipython3",
   "version": "3.8.3"
  }
 },
 "nbformat": 4,
 "nbformat_minor": 4
}
