{
 "cells": [
  {
   "cell_type": "markdown",
   "metadata": {
    "colab_type": "text",
    "id": "-HS7g-4Tol3E"
   },
   "source": [
    "University of Stirling<br>\n",
    "Computing Science and Mathematics<br>\n",
    "#### CSCU9YE - Artificial Intelligence<p>   \n",
    "## Assignment: Organising a Colour Palette \n",
    "This notetbook offers some auxiliary code to support your programming assignment.    "
   ]
  },
  {
   "cell_type": "markdown",
   "metadata": {},
   "source": [
    "### Reading the data file "
   ]
  },
  {
   "cell_type": "code",
   "execution_count": 20,
   "metadata": {
    "colab": {},
    "colab_type": "code",
    "id": "KhOt_WBFol3G"
   },
   "outputs": [],
   "source": [
    "import numpy as np      # Numerical library, used keeing the list of colours and computing the Euclidean distance\n",
    "\n",
    "# Read in the color data file \n",
    "# Input: string with file name\n",
    "# Oputput: the number of colours (integer), and a list numpy arrays with all the colours\n",
    "def read_data(fname):\n",
    "    cols = np.loadtxt(fname, skiprows = 4) # The first 4 lines have text information, and are ignored     \n",
    "    ncols = len(cols)     # Total number of colours and list of colours\n",
    "    return ncols,cols"
   ]
  },
  {
   "cell_type": "markdown",
   "metadata": {},
   "source": [
    "#### Read and explore the data file: either the 10, 100, or 500 colours dataset\n",
    "\n",
    "The colorus are stored in a list, where each element of the list is a numpy array of dimension 3. That is arrays of 3 real numbers where the real numbers indicate the R,G, and B values of the colour (RGB colour model). "
   ]
  },
  {
   "cell_type": "code",
   "execution_count": 21,
   "metadata": {},
   "outputs": [
    {
     "name": "stdout",
     "output_type": "stream",
     "text": [
      "Number of colours: 96\n",
      "First 5 colours:\n",
      "[[0.96645354 0.4407326  0.00749147]\n",
      " [0.91097596 0.939269   0.58222757]\n",
      " [0.67156348 0.08393823 0.76648093]\n",
      " [0.23680978 0.03081402 0.78877272]\n",
      " [0.34608897 0.62328148 0.6158157 ]]\n"
     ]
    }
   ],
   "source": [
    "ncolors, colors = read_data(\"col100.txt\")\n",
    "\n",
    "print(f'Number of colours: {ncolors}')\n",
    "print(\"First 5 colours:\")\n",
    "print(colors[0:5,  :])"
   ]
  },
  {
   "cell_type": "markdown",
   "metadata": {
    "colab_type": "text",
    "id": "L8ZvdCK7ol3O"
   },
   "source": [
    "### Plotting a sequence of colours\n",
    "\n",
    "The function <b>plot_colors()</b> displaysthe colours from the color list *col_list* the order given by the *col_order* list. \n",
    "\n",
    "*col_list* and *col_order* need to be of the same length. The *ratio* parameter indicates height/width proportion of each bar of colour in the plot."
   ]
  },
  {
   "cell_type": "code",
   "execution_count": 22,
   "metadata": {
    "colab": {},
    "colab_type": "code",
    "id": "-devp9PBol3P"
   },
   "outputs": [],
   "source": [
    "import matplotlib.pyplot as plt\n",
    "\n",
    "# Dsiplay the colors as a strip of color bars\n",
    "# Input: list of colors, order of colors, and height/ratio\n",
    "\n",
    "def plot_colors(col_list, col_order, ratio = 10): \n",
    "    assert len(col_list) == len(col_order)\n",
    "    img = np.zeros((ratio, len(col_list), 3))\n",
    "    for i in range(0, len(col_list)):\n",
    "        img[:, i, :] = col_list[col_order[i]]\n",
    "    fig, axes = plt.subplots(1, figsize=(10,6)) # figsize=(width,height) handles window dimensions\n",
    "    axes.imshow(img, interpolation='nearest')\n",
    "    axes.axis('off')\n",
    "    plt.show()"
   ]
  },
  {
   "cell_type": "markdown",
   "metadata": {
    "colab_type": "text",
    "id": "_sesVP5bol3U"
   },
   "source": [
    "### Examples of ploting a colour ordering\n",
    "\n",
    "Let us see how to call the plot function, using the original order in which the colours appear in the data file, and another randomised order."
   ]
  },
  {
   "cell_type": "code",
   "execution_count": 23,
   "metadata": {
    "colab": {},
    "colab_type": "code",
    "id": "xnxRAdZ5ol3V",
    "outputId": "fe8aeb34-44be-4e44-9b1f-c7c1d11970cb"
   },
   "outputs": [
    {
     "data": {
      "image/png": "[encoded data removed]",
      "text/plain": [
       "<Figure size 720x432 with 1 Axes>"
      ]
     },
     "metadata": {
      "needs_background": "light"
     },
     "output_type": "display_data"
    },
    {
     "name": "stdout",
     "output_type": "stream",
     "text": [
      "Another random solution:  [47, 62, 79, 85, 14, 23, 91, 93, 12, 17, 10, 0, 20, 52, 2, 28, 21, 64, 60, 92, 72, 1, 16, 22, 13, 59, 86, 57, 49, 75, 68, 24, 83, 71, 89, 90, 40, 9, 87, 31, 36, 45, 63, 34, 5, 65, 15, 54, 42, 53, 77, 4, 25, 39, 81, 94, 73, 3, 27, 82, 8, 32, 48, 43, 33, 50, 74, 88, 56, 30, 44, 51, 29, 41, 38, 35, 95, 80, 26, 58, 19, 69, 55, 6, 70, 7, 66, 78, 11, 18, 67, 76, 61, 46, 37, 84]\n"
     ]
    },
    {
     "data": {
      "image/png": "[encoded data removed]",
      "text/plain": [
       "<Figure size 720x432 with 1 Axes>"
      ]
     },
     "metadata": {
      "needs_background": "light"
     },
     "output_type": "display_data"
    },
    {
     "name": "stdout",
     "output_type": "stream",
     "text": [
      "Same ordering of colurs with a larger ratio\n"
     ]
    },
    {
     "data": {
      "image/png": "[encoded data removed]",
      "text/plain": [
       "<Figure size 720x432 with 1 Axes>"
      ]
     },
     "metadata": {
      "needs_background": "light"
     },
     "output_type": "display_data"
    }
   ],
   "source": [
    "import random as rnd\n",
    "\n",
    "# Plot all the colors in the order they are listd in the file\n",
    "order1 = list(range(ncolors))   # list of consequtive numbers from 0 to ncolors\n",
    "plot_colors(colors, order1)    #  You will notice that colors are not ordered in the file\n",
    "\n",
    "# Function to generate a random solution (random ordering)  - we can generate a random ordering of the list by using\n",
    "# the shuffle function from the random library\n",
    "def random_sol():\n",
    "    sol = list(range(ncolors))   # list of consequtive numbers from 0 to ncolors\n",
    "    # Shuffle the elements in the list randomly. Shuffles in place and doesn’t retunr a value\n",
    "    rnd.shuffle(sol)   \n",
    "    return sol\n",
    "\n",
    "order2 = random_sol()\n",
    "print(\"Another random solution: \", order2)\n",
    "plot_colors(colors, order2)  # the colors are not ordered, but this is a different order\n",
    "\n",
    "# You can test different ratios of the hight/width of the lines in the plot\n",
    "print(\"Same ordering of colurs with a larger ratio\")\n",
    "plot_colors(colors, order2, 20)"
   ]
  },
  {
   "cell_type": "markdown",
   "metadata": {},
   "source": [
    "### Evaluation function to determine the quality of a given ordering of colours\n",
    "\n",
    "When solving the problem using optimisation heuristics, we need an evaluation function to measure the quality of a sulution. The problem is formulated as a minimisation  problem. We want to minimise the pair-wise distance between consequtive colours in the ordering. \n",
    "\n",
    "This function computes the quality of given ordering of colours. The smaller the evaluation function the better, as this is is formulated as a minimisation problem"
   ]
  },
  {
   "cell_type": "code",
   "execution_count": 24,
   "metadata": {},
   "outputs": [],
   "source": [
    "# This is an auxiliary function. It calculate the Euclidean distance between two individual colours\n",
    "# Input: v and u as to be numpy arrays, vectors of real numbers with the RGB coordinates.\n",
    "\n",
    "def euclid(v, u):\n",
    "    return np.linalg.norm(v - u)\n",
    "\n",
    "# Evaluation function.  Measures the quality of a given solution (ordering of colours) \n",
    "# The function computes the sum of the distances between all consecutive colours in the ordering\n",
    "# Input: cols: list of colours \n",
    "#        ordc: ordering of colours\n",
    "# Output: real number with the sumf of pair-wise differences in the colour ordering\n",
    "\n",
    "def evaluate(cols, ordc):     \n",
    "    adjacentColPairs = [[cols[ordc[i]],cols[ordc[i-1]]] for i in range(1,len(ordc))]\n",
    "    return sum([euclid(i[1], i[0]) for i in adjacentColPairs])"
   ]
  },
  {
   "cell_type": "markdown",
   "metadata": {},
   "source": [
    "#### Evaluating the quality of given solutions\n",
    "\n",
    "Let us use the evaluation function to calculate the quality of the arbitrary orderings of colours *order1* and *order2*"
   ]
  },
  {
   "cell_type": "code",
   "execution_count": 25,
   "metadata": {},
   "outputs": [
    {
     "name": "stdout",
     "output_type": "stream",
     "text": [
      "Evaluation of order1: 62.28133261068915\n",
      "Evaluation of order1: 62.2813\n",
      "Evaluation of order1: 63.41778514003889\n",
      "Evaluation of order1: 63.4178\n"
     ]
    }
   ],
   "source": [
    "e1 = evaluate(colors, order1)\n",
    "print(f'Evaluation of order1: {e1}') # Displaying all decimals\n",
    "print(f'Evaluation of order1: {np.round(e1,4)}') # rounding to display only 4 decimals. This is better for display\n",
    "\n",
    "e2 = evaluate(colors, order2)\n",
    "print(f'Evaluation of order1: {e2}') # Displaying all decimals\n",
    "print(f'Evaluation of order1: {np.round(e2,4)}') # rounding to display only 4 decimals. This is better for display"
   ]
  },
  {
   "cell_type": "markdown",
   "metadata": {},
   "source": [
    "## Implementation of Hill-Climbing\n",
    "\n",
    "The hill-climb works by using comparing the values of the current best solution to a version of that solution that has been altered by a random mutation. It is better to perform a random neighbour mutation on the current best solution rather than completely randomise it as a small mutation in the solution is more likely to get you closer to the optimum than a complete randomisation of the solution given, which would more likely take you further away from the optimum.\n",
    "\n",
    "The following functions contain code for running a hill-climbing algorithm that performs a given number of iterations where each iteration a random neighbour is found and then compared to see if it is better than the current solution. In relation to the colours we want a smaller euclidian distance to achieve colours that are in better order. The hill-climb takes a variable called neighbourType which will determine how the random neighbour of the solution will be found. Depending on the neighbourType selected will test the mutations performed by the swap, inversion, and scramble functions."
   ]
  },
  {
   "cell_type": "code",
   "execution_count": 26,
   "metadata": {},
   "outputs": [],
   "source": [
    "# Switches two random points in the solution\n",
    "# Input solution: the solution to be altered\n",
    "# Output: next solution for the hill climb to evaluate\n",
    "def swap(solution):\n",
    "    pos1,pos2 = getRandomPositions(solution)\n",
    "    nextSolution = solution[:]\n",
    "    nextSolution[pos1],nextSolution[pos2] = solution[pos2],solution[pos1]\n",
    "    return nextSolution\n",
    "\n",
    "# Inverts the solution between 2 random points\n",
    "# Input solution: the solution to be altered\n",
    "# Output: next solution for the hill climb to evaluate\n",
    "def inversion(solution):\n",
    "    pos1,pos2 = getRandomPositions(solution)\n",
    "    positions = solution[pos1:pos2] # gets the points from the solution that are between pos1 and pos2\n",
    "    inverted = positions[::-1] # reverses the order of the list\n",
    "    nextSolution = switchPlaces(pos1,inverted,solution)\n",
    "    return nextSolution\n",
    "\n",
    "# Scrambles the solution between 2 random points\n",
    "# Input: solution: the solution to be altered\n",
    "# Output: next solution for the hill climb to evaluate\n",
    "def scramble(solution):\n",
    "    pos1,pos2 = getRandomPositions(solution)\n",
    "    positions = solution[pos1:pos2] # gets the points from the solution that are between pos1 and pos2\n",
    "    rnd.shuffle(positions) # randomises order of the positions\n",
    "    nextSolution = switchPlaces(pos1, positions, solution)\n",
    "    return nextSolution\n",
    "\n",
    "# Returns two random but unique points in the solution returned in order\n",
    "# Input solution: The solution to be altered\n",
    "# Output: two random positions\n",
    "def getRandomPositions(solution):\n",
    "    pos1 = rnd.randint(0,ncolors-1)\n",
    "    pos2 = rnd.randint(0,ncolors-1)\n",
    "    while solution[pos1] == solution[pos2]: # if new random position is already selected\n",
    "        pos2 = rnd.randint(0,ncolors-1) # generate a new random position\n",
    "    return min(pos1,pos2),max(pos1,pos2)\n",
    "\n",
    "# Returns a solution that has had the chosen positions changed round\n",
    "# Input pos1: The point where the altered positions start\n",
    "#       Input positions: The positions to be changed for the next solution\n",
    "#       Input solution: the solution to be altered\n",
    "# Output: next solution for the hill climb to evaluate\n",
    "def switchPlaces(pos1, positions, solution):\n",
    "    for i in range(len(positions)):\n",
    "        solution[pos1 + i] = positions[i]\n",
    "    return solution\n",
    "\n",
    "# random mutation is used to alter solution and if it's value is better than the current then keep that\n",
    "# as the run value for the next to be compared against, and repeat for the number of iterations specified\n",
    "# Input: startSolution: random solution for evaluations to develop from\n",
    "#        tries: number of repetitions for hill-climbing\n",
    "#        hc_iter: number of iterations for the hill-climbing\n",
    "#        neighbourType: type of random neighbour to mutate the solution\n",
    "# Output: The solution at the end of hill-climing, it's value and a trace of improvements\n",
    "def hillClimb(startSolution, hcIter, neighbourType):\n",
    "    trace = []\n",
    "    runSolution = startSolution[:]\n",
    "    runValue = evaluate(colors, runSolution)\n",
    "    trace.append(runValue)\n",
    "    for j in range(hcIter):\n",
    "        nextSolution = randomNeighbour(runSolution, neighbourType)\n",
    "        nextValue = evaluate(colors, nextSolution)\n",
    "        if nextValue <= runValue:\n",
    "            runValue = nextValue\n",
    "            runSolution = nextSolution[:]\n",
    "        trace.append(runValue)\n",
    "    return runSolution,runValue,trace\n",
    "\n",
    "# returns solution altered by one of the neighbourhoods\n",
    "# Input: runSolution: the solution to be altered\n",
    "#        neighbourType: type of random neighbour that will alter the solution\n",
    "# Output: next solution for the hill climb to evaluate\n",
    "def randomNeighbour(runSolution, neighbourType):\n",
    "    nextSolution = []\n",
    "    if neighbourType == \"Scramble\":\n",
    "        nextSolution = scramble(runSolution)\n",
    "    if neighbourType == \"Inversion\":\n",
    "        nextSolution = inversion(runSolution)\n",
    "    if neighbourType == \"Swap\":\n",
    "        nextSolution = swap(runSolution)\n",
    "    return nextSolution"
   ]
  },
  {
   "cell_type": "markdown",
   "metadata": {},
   "source": [
    "### Multi Hill-climbing and Contrasting Performance\n",
    "\n",
    "The following functions implement multiple runs of the hill-climbing function shown above and contrasts the performance of the different random neighbours."
   ]
  },
  {
   "cell_type": "code",
   "execution_count": 69,
   "metadata": {},
   "outputs": [],
   "source": [
    "# Multiple tries of hill-climbing\n",
    "# Input: startSolution: random solution for evaluations to develop from\n",
    "#        tries: number of repetitions for hill-climbing\n",
    "#        hc_iter: number of iterations for the hill-climbing\n",
    "#        neighbourType: type of random neighbour that will alter the solution\n",
    "# Output: The best solution after trying hill-clibming serveral times,\n",
    "#         it's value and trace of improvements\n",
    "def multi_hc(startSolution, tries, hcIter, neighbourType):\n",
    "    bestTrace = []\n",
    "    bestSolution = startSolution[:]\n",
    "    bestValue = evaluate(colors, bestSolution)\n",
    "    for i in range(tries):\n",
    "        runSolution, runValue,trace = hillClimb(startSolution, hcIter, neighbourType)\n",
    "        if runValue <= bestValue:\n",
    "            bestValue = runValue\n",
    "            bestSolution = runSolution[:]\n",
    "            bestTrace = trace[:]\n",
    "    return bestSolution, bestValue, bestTrace\n",
    "\n",
    "# Performs multiple tries of hill-climbing for each type of random neighbour\n",
    "# Input: runs: random solution for evaluations to develop from\n",
    "#        tries: number of repetitions for hill-climbing\n",
    "#        hc_iter: number of iterations for the hill-climbing\n",
    "# Output: The best solution for each type after trying hill-climbing several \n",
    "#         times, it's value and trace of improvements\n",
    "def contrasting_performance(bestSolution, bestValue, runs, tries, hcIter):\n",
    "    #Initialise variables\n",
    "    scrambleValue = inversionValue = swapValue = bestValue\n",
    "    scrambleSolution = inversionSolution = swapSolution = bestSolution\n",
    "    scrambleTrace = inversionTrace = swapTrace = bestTrace = []\n",
    "    for i in range(runs):\n",
    "        scrambleSolution, scrambleValue, scrambleTrace = multi_hc(bestSolution, tries, hcIter, \"Scramble\")\n",
    "        inversionSolution, inversionValue, inversionTrace = multi_hc(bestSolution, tries, hcIter, \"Inversion\")\n",
    "        swapSolution, swapValue, swapTrace = multi_hc(bestSolution, tries, hcIter, \"Swap\")\n",
    "    return scrambleSolution,inversionSolution,swapSolution,scrambleValue,inversionValue,swapValue,scrambleTrace,inversionTrace,swapTrace\n",
    "\n",
    "# Compares the values of the multi_HC types to the current best\n",
    "# Input: the values to be compared and the variables to update if the\n",
    "#        next value  is better than the current best value\n",
    "# Output: returns the best variables which will have been updated\n",
    "#         if the next value was better than the current best\n",
    "def getBest(scrambleSolution,scrambleValue,scrambleTrace,inversionSolution,inversionValue,\n",
    "            inversionTrace,swapSolution,swapValue,swapTrace,scrambleName,inversionName,swapName):\n",
    "        bestSolution, bestValue, bestTrace, bestName = scrambleSolution, scrambleValue, scrambleTrace, scrambleName\n",
    "        bestSolution, bestValue, bestTrace,bestName = compare(bestSolution, bestValue, bestTrace, bestName,\n",
    "                                                     inversionSolution, inversionValue, inversionTrace, inversionName)\n",
    "        bestSolution, bestValue, bestTrace,bestName = compare(bestSolution, bestValue, bestTrace, bestName,\n",
    "                                                              swapSolution, swapValue, swapTrace, swapName)\n",
    "        return bestSolution, bestValue, bestTrace, bestName\n",
    "\n",
    "# Compares the next value to the best then if it is better update it so the next\n",
    "# is the best\n",
    "# Input: the values to be compared and the variables to update if the\n",
    "#        next value  is better than the current best value\n",
    "# Output: returns the best variables which will have been updated\n",
    "#         if the next value was better than the current best\n",
    "def compare(bestSolution, bestValue, bestTrace, bestName, solution, value, trace, name):\n",
    "    if value <= bestValue:\n",
    "        bestValue = value\n",
    "        bestSolution = solution[:]\n",
    "        bestTrace = trace[:]\n",
    "        bestName = name\n",
    "    return bestSolution, bestValue, bestTrace, bestName"
   ]
  },
  {
   "cell_type": "markdown",
   "metadata": {},
   "source": [
    "## Evaluation"
   ]
  },
  {
   "cell_type": "markdown",
   "metadata": {},
   "source": [
    "### Contrasting Performance\n",
    "\n",
    "The following demonstrates the effectiveness of the different random neighbour strategies. It takes multiple, runs of the multi_hc method where it tries multiple hill-climbs each with either the swap, scramble, or inversion method. It prints out the solution found, the best Euclidean distance found and a colour plot for each. This is done for the original random solution, swap, inversion, and scramble. It also displays a graph that has the trace of each to make the contrast of each performance easier to read. Finally, the best information for the best run is displayed as well as the name for the specific method that found it. The number of iterations for this is pretty low as I am only looking to demonstrate the contrast in performance rather than find the best euclidean distance."
   ]
  },
  {
   "cell_type": "code",
   "execution_count": 70,
   "metadata": {
    "scrolled": false
   },
   "outputs": [
    {
     "name": "stdout",
     "output_type": "stream",
     "text": [
      "Random un-sorted starting solution: \n",
      "Euclidean Distance: 60.129571515877736\n",
      "Value order of solution: \n",
      "[90, 68, 48, 74, 76, 51, 57, 86, 31, 16, 45, 12, 93, 88, 66, 8, 49, 18, 52, 7, 87, 3, 63, 35, 55, 50, 19, 56, 73, 53, 14, 64, 47, 6, 10, 59, 28, 43, 40, 20, 37, 89, 9, 91, 34, 71, 41, 13, 1, 62, 11, 26, 24, 82, 32, 83, 92, 70, 85, 58, 21, 25, 33, 81, 38, 27, 39, 23, 80, 69, 15, 95, 60, 17, 67, 75, 22, 2, 4, 84, 72, 78, 44, 46, 29, 61, 30, 42, 54, 65, 0, 36, 79, 5, 77, 94]\n",
      "Colour plot: \n"
     ]
    },
    {
     "data": {
      "image/png": "[encoded data removed]",
      "text/plain": [
       "<Figure size 720x432 with 1 Axes>"
      ]
     },
     "metadata": {
      "needs_background": "light"
     },
     "output_type": "display_data"
    },
    {
     "name": "stdout",
     "output_type": "stream",
     "text": [
      "Best swap Euclidean Distance: 37.29305315109069\n",
      "Value order of swap best solution: \n",
      "[90, 82, 3, 73, 20, 40, 10, 72, 31, 54, 88, 87, 84, 80, 83, 8, 0, 95, 42, 7, 58, 44, 35, 19, 55, 11, 81, 16, 77, 14, 89, 64, 63, 6, 57, 59, 75, 52, 29, 76, 60, 50, 49, 66, 93, 71, 41, 47, 1, 62, 94, 86, 24, 46, 18, 51, 92, 70, 91, 68, 21, 5, 33, 36, 38, 27, 74, 23, 15, 61, 28, 48, 2, 17, 32, 39, 22, 37, 4, 9, 78, 65, 30, 45, 13, 69, 79, 43, 67, 26, 85, 56, 12, 25, 53, 34]\n",
      "Swap Colour plot: \n"
     ]
    },
    {
     "data": {
      "image/png": "[encoded data removed]",
      "text/plain": [
       "<Figure size 720x432 with 1 Axes>"
      ]
     },
     "metadata": {
      "needs_background": "light"
     },
     "output_type": "display_data"
    },
    {
     "name": "stdout",
     "output_type": "stream",
     "text": [
      "Best inversion Euclidean Distance: 55.60089337226831\n",
      "Value order of inversion best solution: \n",
      "[49, 1, 39, 5, 67, 17, 38, 2, 92, 58, 9, 76, 7, 46, 79, 42, 91, 29, 87, 61, 65, 44, 82, 55, 50, 18, 37, 40, 52, 6, 22, 47, 26, 85, 48, 54, 12, 64, 93, 32, 11, 95, 20, 66, 23, 71, 28, 21, 27, 19, 90, 84, 80, 16, 69, 57, 75, 10, 62, 8, 89, 88, 43, 30, 41, 45, 74, 14, 72, 78, 56, 63, 68, 15, 53, 24, 34, 83, 36, 33, 51, 25, 59, 86, 35, 31, 0, 77, 4, 13, 70, 81, 60, 3, 73, 94]\n",
      "Inversion colour plot: \n"
     ]
    },
    {
     "data": {
      "image/png": "[encoded data removed]",
      "text/plain": [
       "<Figure size 720x432 with 1 Axes>"
      ]
     },
     "metadata": {
      "needs_background": "light"
     },
     "output_type": "display_data"
    },
    {
     "name": "stdout",
     "output_type": "stream",
     "text": [
      "Best scramble Euclidean Distance: 54.229793562712445\n",
      "Value order of scramble best solution: \n",
      "[34, 62, 32, 65, 45, 42, 66, 20, 69, 72, 18, 75, 58, 40, 14, 83, 0, 28, 74, 23, 21, 64, 56, 25, 47, 51, 59, 80, 63, 4, 82, 54, 55, 24, 39, 41, 93, 77, 90, 6, 57, 31, 79, 37, 71, 17, 86, 2, 68, 38, 1, 85, 50, 35, 76, 60, 29, 33, 11, 73, 88, 46, 30, 44, 43, 13, 36, 9, 49, 87, 26, 27, 19, 10, 67, 16, 91, 3, 81, 15, 95, 52, 8, 89, 12, 84, 7, 92, 48, 5, 70, 53, 78, 22, 61, 94]\n",
      "Scramble Colour plot: \n"
     ]
    },
    {
     "data": {
      "image/png": "[encoded data removed]",
      "text/plain": [
       "<Figure size 720x432 with 1 Axes>"
      ]
     },
     "metadata": {
      "needs_background": "light"
     },
     "output_type": "display_data"
    },
    {
     "data": {
      "image/png": "[encoded data removed]",
      "text/plain": [
       "<Figure size 432x288 with 1 Axes>"
      ]
     },
     "metadata": {
      "needs_background": "light"
     },
     "output_type": "display_data"
    },
    {
     "name": "stdout",
     "output_type": "stream",
     "text": [
      "Inversion shown in red, scramble shown in green and swap shown in blue.\n",
      "\n",
      "Best Euclidean Distance: 37.29305315109069\n",
      "Found by the Swap neighbourhood\n",
      "Final Solution: [90, 82, 3, 73, 20, 40, 10, 72, 31, 54, 88, 87, 84, 80, 83, 8, 0, 95, 42, 7, 58, 44, 35, 19, 55, 11, 81, 16, 77, 14, 89, 64, 63, 6, 57, 59, 75, 52, 29, 76, 60, 50, 49, 66, 93, 71, 41, 47, 1, 62, 94, 86, 24, 46, 18, 51, 92, 70, 91, 68, 21, 5, 33, 36, 38, 27, 74, 23, 15, 61, 28, 48, 2, 17, 32, 39, 22, 37, 4, 9, 78, 65, 30, 45, 13, 69, 79, 43, 67, 26, 85, 56, 12, 25, 53, 34]\n",
      "Best colour plot: \n"
     ]
    },
    {
     "data": {
      "image/png": "[encoded data removed]",
      "text/plain": [
       "<Figure size 720x432 with 1 Axes>"
      ]
     },
     "metadata": {
      "needs_background": "light"
     },
     "output_type": "display_data"
    },
    {
     "data": {
      "image/png": "[encoded data removed]",
      "text/plain": [
       "<Figure size 432x288 with 1 Axes>"
      ]
     },
     "metadata": {
      "needs_background": "light"
     },
     "output_type": "display_data"
    }
   ],
   "source": [
    "#read colour data from col100.txt generate random solution and call contrasting_performance\n",
    "ncolors, colors = read_data(\"col100.txt\")\n",
    "unsortedSolution = random_sol()\n",
    "unsortedValue = evaluate(colors,unsortedSolution)\n",
    "scrambleSolution,inversionSolution,swapSolution,scrambleValue,inversionValue,swapValue,scrambleTrace,inversionTrace,swapTrace = contrasting_performance(unsortedSolution,unsortedValue,3,25,500)\n",
    "\n",
    "#display the euclidean distance, colour plot found and order for the random solution\n",
    "#this demonstrates the progress made by the hill-climbing\n",
    "print('Random un-sorted starting solution: ')\n",
    "print(f'Euclidean Distance: {unsortedValue}')\n",
    "print('Value order of solution: ')\n",
    "print(unsortedSolution)\n",
    "print('Colour plot: ')\n",
    "plot_colors(colors, unsortedSolution)\n",
    "\n",
    "#display best euclidean distance found for swap, colour plot found and order of final solution\n",
    "print(f'Best swap Euclidean Distance: {swapValue}')\n",
    "print(f'Value order of swap best solution: ')\n",
    "print(swapSolution)\n",
    "print(f'Swap Colour plot: ')\n",
    "plot_colors(colors, swapSolution)\n",
    "\n",
    "#display best euclidean distance found for inversion, colour plot found and order of final solution\n",
    "print(f'Best inversion Euclidean Distance: {inversionValue}')\n",
    "print(f'Value order of inversion best solution: ')\n",
    "print(inversionSolution)\n",
    "print(f'Inversion colour plot: ')\n",
    "plot_colors(colors, inversionSolution)\n",
    "\n",
    "#display best euclidean distance found for swap, colour plot found and order of final solution\n",
    "print(f'Best scramble Euclidean Distance: {scrambleValue}')\n",
    "print(f'Value order of scramble best solution: ')\n",
    "print(scrambleSolution)\n",
    "print(f'Scramble Colour plot: ')\n",
    "plot_colors(colors, scrambleSolution)\n",
    "\n",
    "#display plot comparing the performance of the different methods\n",
    "#in the hillClimb function I append the best run value even when it\n",
    "#hasn't changed to demonstrate that the inversion and scramble methods\n",
    "#reach a plateau after a shorter number of iterations than the swap\n",
    "plt.figure()\n",
    "plt.plot(inversionTrace,color='red', linewidth=2)\n",
    "plt.plot(scrambleTrace,color='green', linewidth=2)\n",
    "plt.plot(swapTrace,color='blue', linewidth=2)\n",
    "plt.title('Contrasting Performance')\n",
    "plt.ylabel('Euclidean Distance')\n",
    "plt.xlabel('Number of Iterations')\n",
    "plt.show()\n",
    "print(f'Inversion shown in red, scramble shown in green and swap shown in blue.\\n')\n",
    "\n",
    "#display information for the best method\n",
    "bestSolution, bestValue, bestTrace, bestName = getBest(scrambleSolution,scrambleValue,scrambleTrace,inversionSolution,\n",
    "                                                       inversionValue,inversionTrace,swapSolution,swapValue,swapTrace,\n",
    "                                                       \"Scramble\",\"Inversion\",\"Swap\")\n",
    "print(f'Best Euclidean Distance: {bestValue}')\n",
    "print(f'Found by the ' + bestName + ' neighbourhood')\n",
    "print(f'Final Solution: {bestSolution}')\n",
    "print(f'Best colour plot: ')\n",
    "plot_colors(colors, bestSolution)\n",
    "plt.figure()\n",
    "plt.plot(bestTrace,color='red', linewidth=2)\n",
    "plt.title('Best Solution (found by '+ bestName + ')')\n",
    "plt.ylabel('Euclidean Distance')\n",
    "plt.xlabel('Number of Iterations')\n",
    "plt.show()"
   ]
  },
  {
   "cell_type": "markdown",
   "metadata": {},
   "source": [
    "### Contrasting Performance Conclusion\n",
    "\n",
    "The swap method produces much better results than either the scramble or inversion. This is because mutations to the solution at each iteration of the hill-climb are small so with enough iterations we can get close to the optimum. The scramble and inversion mutations alter multiple points in the solution so as the solution gets closer to the optimum the chance of making progress is reduced due to the fact the large number of random changes is more likely to take you further from the optimum than closer to it. Comparing the inversion and scramble shows that although they produce similar values the inversion is the worse of the two. This is because with the scramble method the points are randomised so there is a chance that some points will stay the same meaning a smaller increment is made whereas with inversion all the points are guaranteed to have changed and as mentioned before the large increments of change in the solution when getting towards the best the higher chance it is of taking a step backward than a step forward."
   ]
  },
  {
   "cell_type": "markdown",
   "metadata": {},
   "source": [
    "### Final Results\n",
    "\n",
    "Best hill-climb value for each random neighbour method (swap, inversion, and scramble). Found with hill-climb iteration at 100000. Rounded to four decimal places. This is a bit of an overkill for the col100.txt file as even the swap plateaus at around 25000-30000 iterations."
   ]
  },
  {
   "cell_type": "code",
   "execution_count": null,
   "metadata": {},
   "outputs": [],
   "source": [
    "best100value_swap = 21.4558\n",
    "best500value_swap = 102.1034\n",
    "best100value_inversion = 53.3091\n",
    "best500value_inversion = 305.4329\n",
    "best100value_scramble = 51.3170\n",
    "best500value_scramble = 302.2990"
   ]
  },
  {
   "cell_type": "markdown",
   "metadata": {},
   "source": [
    "### Best Multi Hill-climb\n",
    "\n",
    "Best multi_hc for 100 and 500 colours. These solutions were achieved by using the swap method as the random neighbour as from testing the other methods we can see this method produces the lowest euclidean distance. They were found with 5 tries of the hill-climb function set at 100000 iterations. mhc_best100 value is 21.4558 and mhc_best500 value is 102.1034."
   ]
  },
  {
   "cell_type": "code",
   "execution_count": null,
   "metadata": {},
   "outputs": [],
   "source": [
    "mhc_best100 = [20, 7, 13, 40, 76, 68, 21, 61, 62, 27, 34, 42, 54, 16, 77, 47, 14, 36, 53, 25, 91, 69, 71, 41, 95, 51, 44, 2, 48, 23, 55, 22, 94, 84, 37, 43, 45, 85, 4, 9, 57, 58, 59, 63, 60, 80, 6, 89, 83, 17, 32, 92, 46, 35, 81, 93, 66, 19, 82, 15, 73, 64, 3, 8, 70, 5, 56, 12, 33, 29, 67, 52, 38, 26, 86, 75, 79, 39, 74, 49, 11, 0, 31, 24, 72, 18, 10, 78, 50, 28, 30, 90, 87, 65, 88, 1]\n",
    "\n",
    "mhc_best500 = [195, 358, 0, 423, 473, 412, 397, 170, 310, 312, 493, 316, 341, 362, 89, 407, 347, 126, 224, 466, 231, 335, 4, 295, 57, 236, 371, 274, 365, 208, 314, 12, 291, 222, 389, 187, 414, 47, 38, 112, 26, 21, 339, 386, 272, 210, 305, 60, 80, 109, 468, 308, 220, 416, 262, 428, 321, 52, 45, 59, 439, 334, 121, 215, 216, 20, 36, 33, 14, 119, 474, 154, 62, 293, 142, 431, 476, 349, 484, 159, 91, 424, 415, 27, 39, 402, 411, 257, 137, 304, 13, 485, 393, 419, 203, 441, 323, 151, 472, 387, 22, 306, 287, 148, 270, 102, 453, 5, 338, 370, 442, 44, 172, 8, 320, 207, 101, 246, 331, 266, 284, 352, 378, 194, 340, 90, 118, 107, 398, 382, 359, 461, 401, 108, 248, 298, 185, 42, 234, 249, 139, 282, 243, 363, 95, 271, 186, 61, 261, 110, 413, 281, 364, 280, 369, 37, 50, 488, 303, 311, 495, 456, 253, 374, 83, 480, 478, 251, 199, 394, 127, 232, 438, 355, 285, 463, 269, 465, 212, 409, 143, 131, 445, 34, 299, 162, 104, 483, 379, 342, 360, 152, 348, 319, 315, 64, 73, 218, 353, 75, 489, 443, 275, 35, 410, 93, 276, 469, 211, 153, 3, 324, 346, 179, 326, 191, 94, 226, 454, 427, 447, 79, 418, 265, 88, 283, 221, 182, 417, 436, 313, 9, 6, 486, 354, 452, 134, 136, 230, 327, 384, 19, 48, 204, 213, 177, 25, 171, 155, 53, 430, 357, 56, 158, 400, 201, 429, 237, 99, 98, 217, 325, 361, 40, 123, 76, 337, 29, 129, 322, 174, 122, 16, 399, 74, 372, 49, 180, 157, 450, 111, 260, 250, 166, 366, 373, 78, 296, 375, 97, 130, 309, 163, 181, 105, 433, 133, 160, 391, 292, 114, 383, 459, 184, 87, 279, 492, 150, 227, 30, 198, 475, 223, 85, 259, 277, 458, 487, 307, 96, 455, 467, 190, 329, 368, 58, 15, 318, 403, 168, 380, 161, 7, 200, 256, 267, 238, 228, 317, 440, 116, 278, 165, 420, 449, 462, 258, 70, 10, 376, 294, 24, 300, 144, 425, 106, 437, 1, 149, 178, 135, 69, 183, 206, 479, 239, 23, 55, 330, 128, 385, 176, 381, 192, 426, 117, 115, 82, 247, 193, 297, 457, 406, 164, 491, 197, 255, 18, 72, 46, 141, 209, 245, 51, 490, 2, 196, 92, 268, 17, 477, 63, 43, 225, 408, 67, 432, 421, 54, 31, 471, 332, 396, 233, 356, 240, 244, 263, 145, 390, 494, 214, 41, 446, 464, 470, 124, 68, 132, 125, 188, 289, 377, 138, 404, 344, 84, 28, 146, 451, 422, 448, 120, 367, 273, 202, 405, 219, 77, 175, 302, 252, 290, 254, 288, 205, 435, 343, 264, 460, 32, 336, 156, 242, 345, 86, 395, 66, 11, 100, 140, 241, 169, 481, 65, 229, 189, 301, 235, 434, 81, 103, 286, 333, 167, 392, 351, 147, 388, 444, 482, 71, 350, 113, 328, 173]\n"
   ]
  }
 ],
 "metadata": {
  "colab": {
   "name": "courseWork_startup_kit.ipynb",
   "provenance": []
  },
  "kernelspec": {
   "display_name": "Python 3",
   "language": "python",
   "name": "python3"
  },
  "language_info": {
   "codemirror_mode": {
    "name": "ipython",
    "version": 3
   },
   "file_extension": ".py",
   "mimetype": "text/x-python",
   "name": "python",
   "nbconvert_exporter": "python",
   "pygments_lexer": "ipython3",
   "version": "3.8.3"
  }
 },
 "nbformat": 4,
 "nbformat_minor": 4
}
